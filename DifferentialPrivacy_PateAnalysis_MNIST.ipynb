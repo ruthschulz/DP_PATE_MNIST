{
  "nbformat": 4,
  "nbformat_minor": 0,
  "metadata": {
    "colab": {
      "name": "DifferentialPrivacy-PateAnalysis.ipynb",
      "version": "0.3.2",
      "provenance": [],
      "collapsed_sections": [],
      "toc_visible": true
    },
    "kernelspec": {
      "name": "python3",
      "display_name": "Python 3"
    },
    "accelerator": "GPU"
  },
  "cells": [
    {
      "cell_type": "markdown",
      "metadata": {
        "id": "Ov6Z9ZO7EZWa",
        "colab_type": "text"
      },
      "source": [
        "## DP model using PATE method on MNIST\n",
        "\n",
        "Secure and Private AI Scholarship Challenge Nanodegree Program\n",
        "\n",
        "Lession 6: Differential Privacy\n",
        "\n",
        "Section Project:\n",
        "\n",
        "For the final project for this section, you're going to train a DP model using this PATE method on the MNIST dataset, provided below.\n",
        "\n",
        "\n",
        "Current state of this notebook:\n",
        "\n",
        "I have something for all of the steps that I think need to be taken for the project, but I'm not sure if I'm doing it correctly, especially with respect to the added Laplacian noise and the PATE analysis.\n",
        "\n",
        "The PATE analysis shows that for 10 teachers, even when there is high agreement, the Data Dependent Epsilon is very similar to the Data Independent Epsilon.\n",
        "\n",
        "The student model trained on the 1000 queries from each teacher model reaches about 85% accuracy. This could be improved by using GANs, as in the paper \"Semi-Supervised Knowledge Transfer for Deep Learning from Private Training Data\""
      ]
    },
    {
      "cell_type": "markdown",
      "metadata": {
        "id": "DdqbXqju09N-",
        "colab_type": "text"
      },
      "source": [
        "## Steps of the section project:\n",
        "\n",
        "- Divide MNIST training set into 10 private datasets\n",
        "- Train 10 different teacher models on these private datasets\n",
        "- Get the predictions for the test set from each of the 10 models \n",
        "- Add some laplacian noise and get a maximum noisy vote \n",
        "- Perform pate analysis using the teacher predictions and the max noisy vote as inputs\n",
        "- Train the student model on some of the test set with labels from the max noisy vote\n",
        "- Determine the accuracy of the student model on the remainder of the test set"
      ]
    },
    {
      "cell_type": "markdown",
      "metadata": {
        "id": "sxr1X_SP-XZb",
        "colab_type": "text"
      },
      "source": [
        "## Links for extra information about the various aspects of the work in this notebook.\n",
        "\n",
        "#### Pate analysis:\n",
        "\n",
        "Scalable Private Learning with PATE \n",
        "\n",
        "Paper: https://arxiv.org/pdf/1802.08908.pdf\n",
        "\n",
        "Code: https://github.com/tensorflow/privacy/tree/master/research/pate_2017\n",
        "\n",
        "\n",
        "Semi-Supervised Knowledge Transfer for Deep Learning from Private Training Data \n",
        "\n",
        "Paper: https://arxiv.org/pdf/1610.05755.pdf\n",
        "\n",
        "#### PySyft:\n",
        "\n",
        "https://github.com/OpenMined/PySyft/blob/dev/syft/frameworks/torch/differential_privacy/pate.py\n",
        "\n",
        "\n",
        "#### Mnist:\n",
        "\n",
        "I adapted the network used for Fashion Mnist from Section 1 of Udacity's Secure & Private AI course:\n",
        "\n",
        "https://github.com/udacity/private-ai\n",
        "\n",
        "The adaptations were about how to load the training and test sets, with inspiration from:\n",
        "\n",
        "https://nextjournal.com/gkoehler/pytorch-mnist\n"
      ]
    },
    {
      "cell_type": "markdown",
      "metadata": {
        "id": "OivgxU1Z9cTc",
        "colab_type": "text"
      },
      "source": [
        "## Imports"
      ]
    },
    {
      "cell_type": "code",
      "metadata": {
        "id": "AwUezJTUz6xf",
        "colab_type": "code",
        "colab": {}
      },
      "source": [
        "import torchvision.datasets as datasets"
      ],
      "execution_count": 0,
      "outputs": []
    },
    {
      "cell_type": "code",
      "metadata": {
        "id": "-OvT-odM0BQp",
        "colab_type": "code",
        "colab": {}
      },
      "source": [
        "import torch\n",
        "from torchvision import datasets, transforms\n",
        "from torch.utils.data import SubsetRandomSampler"
      ],
      "execution_count": 0,
      "outputs": []
    },
    {
      "cell_type": "code",
      "metadata": {
        "id": "u3zhz0FO0E7Q",
        "colab_type": "code",
        "colab": {}
      },
      "source": [
        "from torch import nn, optim\n",
        "import torch.nn.functional as F"
      ],
      "execution_count": 0,
      "outputs": []
    },
    {
      "cell_type": "code",
      "metadata": {
        "id": "PcbpjsnO0HLk",
        "colab_type": "code",
        "colab": {}
      },
      "source": [
        "%matplotlib inline\n",
        "%config InlineBackend.figure_format = 'retina'\n",
        "\n",
        "import matplotlib.pyplot as plt"
      ],
      "execution_count": 0,
      "outputs": []
    },
    {
      "cell_type": "code",
      "metadata": {
        "id": "a-WqUcae0R3P",
        "colab_type": "code",
        "colab": {
          "base_uri": "https://localhost:8080/",
          "height": 845
        },
        "outputId": "597ac52f-f3f8-4d9b-fbfa-5232c8f202dc"
      },
      "source": [
        "!pip install syft"
      ],
      "execution_count": 5,
      "outputs": [
        {
          "output_type": "stream",
          "text": [
            "Requirement already satisfied: syft in /usr/local/lib/python3.6/dist-packages (0.1.17)\n",
            "Requirement already satisfied: flask-socketio in /usr/local/lib/python3.6/dist-packages (from syft) (4.1.0)\n",
            "Requirement already satisfied: zstd in /usr/local/lib/python3.6/dist-packages (from syft) (1.4.0.0)\n",
            "Requirement already satisfied: lz4 in /usr/local/lib/python3.6/dist-packages (from syft) (2.1.10)\n",
            "Requirement already satisfied: torch>=1.0.1 in /usr/local/lib/python3.6/dist-packages (from syft) (1.1.0)\n",
            "Requirement already satisfied: torchvision in /usr/local/lib/python3.6/dist-packages (from syft) (0.3.0)\n",
            "Requirement already satisfied: sklearn in /usr/local/lib/python3.6/dist-packages (from syft) (0.0)\n",
            "Requirement already satisfied: msgpack in /usr/local/lib/python3.6/dist-packages (from syft) (0.5.6)\n",
            "Requirement already satisfied: tf-encrypted>=0.5.4 in /usr/local/lib/python3.6/dist-packages (from syft) (0.5.5)\n",
            "Requirement already satisfied: websockets>=7.0 in /usr/local/lib/python3.6/dist-packages (from syft) (7.0)\n",
            "Requirement already satisfied: Flask in /usr/local/lib/python3.6/dist-packages (from syft) (1.0.3)\n",
            "Requirement already satisfied: tblib in /usr/local/lib/python3.6/dist-packages (from syft) (1.4.0)\n",
            "Requirement already satisfied: websocket-client in /usr/local/lib/python3.6/dist-packages (from syft) (0.56.0)\n",
            "Requirement already satisfied: python-socketio>=2.1.0 in /usr/local/lib/python3.6/dist-packages (from flask-socketio->syft) (4.1.0)\n",
            "Requirement already satisfied: numpy in /usr/local/lib/python3.6/dist-packages (from torch>=1.0.1->syft) (1.16.4)\n",
            "Requirement already satisfied: six in /usr/local/lib/python3.6/dist-packages (from torchvision->syft) (1.12.0)\n",
            "Requirement already satisfied: pillow>=4.1.1 in /usr/local/lib/python3.6/dist-packages (from torchvision->syft) (4.3.0)\n",
            "Requirement already satisfied: scikit-learn in /usr/local/lib/python3.6/dist-packages (from sklearn->syft) (0.21.2)\n",
            "Requirement already satisfied: tensorflow<2,>=1.12.0 in /usr/local/lib/python3.6/dist-packages (from tf-encrypted>=0.5.4->syft) (1.13.1)\n",
            "Requirement already satisfied: pyyaml>=5.1 in /usr/local/lib/python3.6/dist-packages (from tf-encrypted>=0.5.4->syft) (5.1.1)\n",
            "Requirement already satisfied: Werkzeug>=0.14 in /usr/local/lib/python3.6/dist-packages (from Flask->syft) (0.15.4)\n",
            "Requirement already satisfied: itsdangerous>=0.24 in /usr/local/lib/python3.6/dist-packages (from Flask->syft) (1.1.0)\n",
            "Requirement already satisfied: click>=5.1 in /usr/local/lib/python3.6/dist-packages (from Flask->syft) (7.0)\n",
            "Requirement already satisfied: Jinja2>=2.10 in /usr/local/lib/python3.6/dist-packages (from Flask->syft) (2.10.1)\n",
            "Requirement already satisfied: python-engineio>=3.8.0 in /usr/local/lib/python3.6/dist-packages (from python-socketio>=2.1.0->flask-socketio->syft) (3.8.1)\n",
            "Requirement already satisfied: olefile in /usr/local/lib/python3.6/dist-packages (from pillow>=4.1.1->torchvision->syft) (0.46)\n",
            "Requirement already satisfied: scipy>=0.17.0 in /usr/local/lib/python3.6/dist-packages (from scikit-learn->sklearn->syft) (1.3.0)\n",
            "Requirement already satisfied: joblib>=0.11 in /usr/local/lib/python3.6/dist-packages (from scikit-learn->sklearn->syft) (0.13.2)\n",
            "Requirement already satisfied: gast>=0.2.0 in /usr/local/lib/python3.6/dist-packages (from tensorflow<2,>=1.12.0->tf-encrypted>=0.5.4->syft) (0.2.2)\n",
            "Requirement already satisfied: tensorboard<1.14.0,>=1.13.0 in /usr/local/lib/python3.6/dist-packages (from tensorflow<2,>=1.12.0->tf-encrypted>=0.5.4->syft) (1.13.1)\n",
            "Requirement already satisfied: grpcio>=1.8.6 in /usr/local/lib/python3.6/dist-packages (from tensorflow<2,>=1.12.0->tf-encrypted>=0.5.4->syft) (1.15.0)\n",
            "Requirement already satisfied: protobuf>=3.6.1 in /usr/local/lib/python3.6/dist-packages (from tensorflow<2,>=1.12.0->tf-encrypted>=0.5.4->syft) (3.7.1)\n",
            "Requirement already satisfied: keras-applications>=1.0.6 in /usr/local/lib/python3.6/dist-packages (from tensorflow<2,>=1.12.0->tf-encrypted>=0.5.4->syft) (1.0.8)\n",
            "Requirement already satisfied: astor>=0.6.0 in /usr/local/lib/python3.6/dist-packages (from tensorflow<2,>=1.12.0->tf-encrypted>=0.5.4->syft) (0.8.0)\n",
            "Requirement already satisfied: keras-preprocessing>=1.0.5 in /usr/local/lib/python3.6/dist-packages (from tensorflow<2,>=1.12.0->tf-encrypted>=0.5.4->syft) (1.1.0)\n",
            "Requirement already satisfied: wheel>=0.26 in /usr/local/lib/python3.6/dist-packages (from tensorflow<2,>=1.12.0->tf-encrypted>=0.5.4->syft) (0.33.4)\n",
            "Requirement already satisfied: termcolor>=1.1.0 in /usr/local/lib/python3.6/dist-packages (from tensorflow<2,>=1.12.0->tf-encrypted>=0.5.4->syft) (1.1.0)\n",
            "Requirement already satisfied: tensorflow-estimator<1.14.0rc0,>=1.13.0 in /usr/local/lib/python3.6/dist-packages (from tensorflow<2,>=1.12.0->tf-encrypted>=0.5.4->syft) (1.13.0)\n",
            "Requirement already satisfied: absl-py>=0.1.6 in /usr/local/lib/python3.6/dist-packages (from tensorflow<2,>=1.12.0->tf-encrypted>=0.5.4->syft) (0.7.1)\n",
            "Requirement already satisfied: MarkupSafe>=0.23 in /usr/local/lib/python3.6/dist-packages (from Jinja2>=2.10->Flask->syft) (1.1.1)\n",
            "Requirement already satisfied: markdown>=2.6.8 in /usr/local/lib/python3.6/dist-packages (from tensorboard<1.14.0,>=1.13.0->tensorflow<2,>=1.12.0->tf-encrypted>=0.5.4->syft) (3.1.1)\n",
            "Requirement already satisfied: setuptools in /usr/local/lib/python3.6/dist-packages (from protobuf>=3.6.1->tensorflow<2,>=1.12.0->tf-encrypted>=0.5.4->syft) (41.0.1)\n",
            "Requirement already satisfied: h5py in /usr/local/lib/python3.6/dist-packages (from keras-applications>=1.0.6->tensorflow<2,>=1.12.0->tf-encrypted>=0.5.4->syft) (2.8.0)\n",
            "Requirement already satisfied: mock>=2.0.0 in /usr/local/lib/python3.6/dist-packages (from tensorflow-estimator<1.14.0rc0,>=1.13.0->tensorflow<2,>=1.12.0->tf-encrypted>=0.5.4->syft) (3.0.5)\n"
          ],
          "name": "stdout"
        }
      ]
    },
    {
      "cell_type": "code",
      "metadata": {
        "id": "UzFhyRU80Jbt",
        "colab_type": "code",
        "colab": {}
      },
      "source": [
        "from syft.frameworks.torch.differential_privacy import pate"
      ],
      "execution_count": 0,
      "outputs": []
    },
    {
      "cell_type": "code",
      "metadata": {
        "id": "4lX-Xq3mSwdG",
        "colab_type": "code",
        "colab": {}
      },
      "source": [
        "import numpy as np"
      ],
      "execution_count": 0,
      "outputs": []
    },
    {
      "cell_type": "code",
      "metadata": {
        "id": "6y3S7yzfhUrz",
        "colab_type": "code",
        "colab": {}
      },
      "source": [
        "STUDENT_BATCH_SIZE = 100\n",
        "NUM_TEACHERS = 10\n",
        "STUDENT_SET_SIZE = 1000"
      ],
      "execution_count": 0,
      "outputs": []
    },
    {
      "cell_type": "markdown",
      "metadata": {
        "id": "C8eivGv89kcd",
        "colab_type": "text"
      },
      "source": [
        "## Training and test set into DataLoaders\n",
        "\n",
        "Transform ToTensor, and Normalize\n",
        "\n",
        "Separate out training set into 10 smaller sets\n",
        "\n",
        "Also return test targets separately, as this may be useful in the analysis"
      ]
    },
    {
      "cell_type": "code",
      "metadata": {
        "id": "bMH3kHOy0Mji",
        "colab_type": "code",
        "colab": {}
      },
      "source": [
        "def create_data_loaders (num_training_loaders):\n",
        "\n",
        "    # Define a transform to normalize the data\n",
        "    transform=transforms.Compose([transforms.ToTensor(),\n",
        "                                  transforms.Normalize((0.1307,), (0.3081,))])\n",
        "    # Download and load the training data\n",
        "    mnist_trainset = datasets.MNIST(root='./data', train=True, download=True, transform=transform)\n",
        "    # Set up the trainloaders list\n",
        "    trainloaders = []\n",
        "    data_per_set = int(len(mnist_trainset) / num_training_loaders)\n",
        "    for i in range(num_training_loaders):\n",
        "        train_indices = range(i*data_per_set,i*data_per_set+data_per_set)\n",
        "        trainloaders.append(torch.utils.data.DataLoader(mnist_trainset, \n",
        "                                                         batch_size=32, \n",
        "                                                         sampler=SubsetRandomSampler(train_indices)))\n",
        "\n",
        "    # Download and load the test data\n",
        "    mnist_testset = datasets.MNIST(root='data', train=False, download=True, transform=transform)\n",
        "    # Set up the testloader\n",
        "    testloader = torch.utils.data.DataLoader(mnist_testset, batch_size=STUDENT_BATCH_SIZE, shuffle=False)\n",
        "    test_targets = mnist_testset.test_labels\n",
        "\n",
        "    return trainloaders, testloader, test_targets"
      ],
      "execution_count": 0,
      "outputs": []
    },
    {
      "cell_type": "code",
      "metadata": {
        "id": "y6OhjDlb1daQ",
        "colab_type": "code",
        "colab": {
          "base_uri": "https://localhost:8080/",
          "height": 54
        },
        "outputId": "bd28e42b-f858-4fb3-8825-98eb69063125"
      },
      "source": [
        "trainloaders, testloader, test_targets = create_data_loaders(NUM_TEACHERS)"
      ],
      "execution_count": 10,
      "outputs": [
        {
          "output_type": "stream",
          "text": [
            "/usr/local/lib/python3.6/dist-packages/torchvision/datasets/mnist.py:48: UserWarning: test_labels has been renamed targets\n",
            "  warnings.warn(\"test_labels has been renamed targets\")\n"
          ],
          "name": "stderr"
        }
      ]
    },
    {
      "cell_type": "markdown",
      "metadata": {
        "id": "bcU8I4cM-Q6y",
        "colab_type": "text"
      },
      "source": [
        "## Define Classifier to use for teacher and student models"
      ]
    },
    {
      "cell_type": "code",
      "metadata": {
        "id": "G6eh14LW1gUz",
        "colab_type": "code",
        "colab": {}
      },
      "source": [
        "class Classifier(nn.Module):\n",
        "    def __init__(self):\n",
        "        super().__init__()\n",
        "        self.fc1 = nn.Linear(784, 256)\n",
        "        self.fc2 = nn.Linear(256, 128)\n",
        "        self.fc3 = nn.Linear(128, 64)\n",
        "        self.fc4 = nn.Linear(64, 10)\n",
        "        \n",
        "    def forward(self, x):\n",
        "        # make sure input tensor is flattened\n",
        "        x = x.view(x.shape[0], -1)\n",
        "        \n",
        "        x = F.relu(self.fc1(x))\n",
        "        x = F.relu(self.fc2(x))\n",
        "        x = F.relu(self.fc3(x))\n",
        "        x = F.log_softmax(self.fc4(x), dim=1)\n",
        "        \n",
        "        return x"
      ],
      "execution_count": 0,
      "outputs": []
    },
    {
      "cell_type": "markdown",
      "metadata": {
        "id": "blcr0AWp-eeI",
        "colab_type": "text"
      },
      "source": [
        "## Create 10 Teacher models"
      ]
    },
    {
      "cell_type": "code",
      "metadata": {
        "id": "E5liY77T1kFJ",
        "colab_type": "code",
        "colab": {}
      },
      "source": [
        "def create_models (num_models):\n",
        "    # Create the network, define the criterion and optimizer\n",
        "    models = []\n",
        "    for i in range(num_models):\n",
        "        models.append(Classifier())\n",
        "    \n",
        "    return models"
      ],
      "execution_count": 0,
      "outputs": []
    },
    {
      "cell_type": "code",
      "metadata": {
        "id": "JK3XViHh1oJf",
        "colab_type": "code",
        "colab": {}
      },
      "source": [
        "models = create_models(NUM_TEACHERS)"
      ],
      "execution_count": 0,
      "outputs": []
    },
    {
      "cell_type": "markdown",
      "metadata": {
        "id": "TggOufzQ-jqh",
        "colab_type": "text"
      },
      "source": [
        "## Train Teacher models"
      ]
    },
    {
      "cell_type": "code",
      "metadata": {
        "id": "BCPlWQ2y1q5T",
        "colab_type": "code",
        "colab": {}
      },
      "source": [
        "def train_model (trainloader, model, epochs):\n",
        "\n",
        "    optimizer = optim.Adam(model.parameters(), lr=0.003)\n",
        "    criterion = nn.NLLLoss()\n",
        "\n",
        "    train_losses = []\n",
        "    for e in range(epochs):\n",
        "        running_loss = 0\n",
        "        label_index = 0\n",
        "        for images, labels in trainloader:\n",
        "            log_ps = model(images)\n",
        "            loss = criterion(log_ps, labels)\n",
        "\n",
        "            optimizer.zero_grad()\n",
        "            loss.backward()\n",
        "            optimizer.step()\n",
        "\n",
        "            running_loss += loss.item()\n",
        "        else:\n",
        "            #print(f\"Training loss: {running_loss}\")\n",
        "            train_loss = 0\n",
        "            accuracy = 0\n",
        "            with torch.no_grad():\n",
        "                for images, labels in trainloader:\n",
        "                    log_ps = model(images)\n",
        "                    train_loss += criterion(log_ps, labels)\n",
        "\n",
        "                    ps = torch.exp(log_ps)\n",
        "                    top_p, top_class = ps.topk(1, dim=1)\n",
        "                    equals = top_class == labels.view(*top_class.shape)\n",
        "                    accuracy += torch.mean(equals.type(torch.FloatTensor))\n",
        "\n",
        "            train_losses.append(running_loss/len(trainloader))\n",
        "            print(\"Epoch: {}/{}.. \".format(e+1, epochs),\n",
        "                  \"Training Running Loss: {:.3f}.. \".format(running_loss/len(trainloader)),\n",
        "                  \"Train Loss: {:.3f}.. \".format(train_loss/len(trainloader)),\n",
        "                  \"Train Accuracy: {:.3f}\".format(accuracy/len(trainloader)))\n",
        "    return train_losses"
      ],
      "execution_count": 0,
      "outputs": []
    },
    {
      "cell_type": "code",
      "metadata": {
        "id": "JXex5zi-1s6D",
        "colab_type": "code",
        "colab": {
          "base_uri": "https://localhost:8080/",
          "height": 1369
        },
        "outputId": "b7f67e3d-9f0b-47ae-e787-4352723f712f"
      },
      "source": [
        "for i in range(NUM_TEACHERS):\n",
        "    print('Model:',i)\n",
        "    train_losses = train_model(trainloaders[i],models[i],5)\n",
        "    line_label = \"Model: {}\".format(i)\n",
        "    plt.plot(train_losses, label=line_label)\n",
        "    plt.legend(frameon=False)"
      ],
      "execution_count": 15,
      "outputs": [
        {
          "output_type": "stream",
          "text": [
            "Model: 0\n",
            "Epoch: 1/5..  Training Running Loss: 0.535..  Train Loss: 0.184..  Train Accuracy: 0.945\n",
            "Epoch: 2/5..  Training Running Loss: 0.223..  Train Loss: 0.163..  Train Accuracy: 0.951\n",
            "Epoch: 3/5..  Training Running Loss: 0.168..  Train Loss: 0.137..  Train Accuracy: 0.959\n",
            "Epoch: 4/5..  Training Running Loss: 0.110..  Train Loss: 0.074..  Train Accuracy: 0.976\n",
            "Epoch: 5/5..  Training Running Loss: 0.117..  Train Loss: 0.062..  Train Accuracy: 0.980\n",
            "Model: 1\n",
            "Epoch: 1/5..  Training Running Loss: 0.577..  Train Loss: 0.245..  Train Accuracy: 0.924\n",
            "Epoch: 2/5..  Training Running Loss: 0.248..  Train Loss: 0.147..  Train Accuracy: 0.951\n",
            "Epoch: 3/5..  Training Running Loss: 0.172..  Train Loss: 0.116..  Train Accuracy: 0.960\n",
            "Epoch: 4/5..  Training Running Loss: 0.139..  Train Loss: 0.099..  Train Accuracy: 0.968\n",
            "Epoch: 5/5..  Training Running Loss: 0.100..  Train Loss: 0.101..  Train Accuracy: 0.966\n",
            "Model: 2\n",
            "Epoch: 1/5..  Training Running Loss: 0.596..  Train Loss: 0.274..  Train Accuracy: 0.911\n",
            "Epoch: 2/5..  Training Running Loss: 0.252..  Train Loss: 0.198..  Train Accuracy: 0.938\n",
            "Epoch: 3/5..  Training Running Loss: 0.184..  Train Loss: 0.102..  Train Accuracy: 0.965\n",
            "Epoch: 4/5..  Training Running Loss: 0.134..  Train Loss: 0.064..  Train Accuracy: 0.980\n",
            "Epoch: 5/5..  Training Running Loss: 0.111..  Train Loss: 0.074..  Train Accuracy: 0.975\n",
            "Model: 3\n",
            "Epoch: 1/5..  Training Running Loss: 0.541..  Train Loss: 0.208..  Train Accuracy: 0.938\n",
            "Epoch: 2/5..  Training Running Loss: 0.232..  Train Loss: 0.217..  Train Accuracy: 0.928\n",
            "Epoch: 3/5..  Training Running Loss: 0.167..  Train Loss: 0.178..  Train Accuracy: 0.944\n",
            "Epoch: 4/5..  Training Running Loss: 0.134..  Train Loss: 0.096..  Train Accuracy: 0.970\n",
            "Epoch: 5/5..  Training Running Loss: 0.088..  Train Loss: 0.116..  Train Accuracy: 0.967\n",
            "Model: 4\n",
            "Epoch: 1/5..  Training Running Loss: 0.583..  Train Loss: 0.273..  Train Accuracy: 0.915\n",
            "Epoch: 2/5..  Training Running Loss: 0.245..  Train Loss: 0.214..  Train Accuracy: 0.932\n",
            "Epoch: 3/5..  Training Running Loss: 0.168..  Train Loss: 0.150..  Train Accuracy: 0.950\n",
            "Epoch: 4/5..  Training Running Loss: 0.133..  Train Loss: 0.077..  Train Accuracy: 0.974\n",
            "Epoch: 5/5..  Training Running Loss: 0.102..  Train Loss: 0.088..  Train Accuracy: 0.971\n",
            "Model: 5\n",
            "Epoch: 1/5..  Training Running Loss: 0.580..  Train Loss: 0.230..  Train Accuracy: 0.932\n",
            "Epoch: 2/5..  Training Running Loss: 0.246..  Train Loss: 0.161..  Train Accuracy: 0.945\n",
            "Epoch: 3/5..  Training Running Loss: 0.156..  Train Loss: 0.108..  Train Accuracy: 0.967\n",
            "Epoch: 4/5..  Training Running Loss: 0.127..  Train Loss: 0.092..  Train Accuracy: 0.972\n",
            "Epoch: 5/5..  Training Running Loss: 0.109..  Train Loss: 0.143..  Train Accuracy: 0.956\n",
            "Model: 6\n",
            "Epoch: 1/5..  Training Running Loss: 0.594..  Train Loss: 0.283..  Train Accuracy: 0.911\n",
            "Epoch: 2/5..  Training Running Loss: 0.252..  Train Loss: 0.172..  Train Accuracy: 0.947\n",
            "Epoch: 3/5..  Training Running Loss: 0.170..  Train Loss: 0.091..  Train Accuracy: 0.975\n",
            "Epoch: 4/5..  Training Running Loss: 0.139..  Train Loss: 0.082..  Train Accuracy: 0.975\n",
            "Epoch: 5/5..  Training Running Loss: 0.115..  Train Loss: 0.084..  Train Accuracy: 0.975\n",
            "Model: 7\n",
            "Epoch: 1/5..  Training Running Loss: 0.593..  Train Loss: 0.259..  Train Accuracy: 0.919\n",
            "Epoch: 2/5..  Training Running Loss: 0.249..  Train Loss: 0.209..  Train Accuracy: 0.930\n",
            "Epoch: 3/5..  Training Running Loss: 0.183..  Train Loss: 0.127..  Train Accuracy: 0.957\n",
            "Epoch: 4/5..  Training Running Loss: 0.139..  Train Loss: 0.090..  Train Accuracy: 0.972\n",
            "Epoch: 5/5..  Training Running Loss: 0.133..  Train Loss: 0.084..  Train Accuracy: 0.971\n",
            "Model: 8\n",
            "Epoch: 1/5..  Training Running Loss: 0.574..  Train Loss: 0.240..  Train Accuracy: 0.927\n",
            "Epoch: 2/5..  Training Running Loss: 0.257..  Train Loss: 0.155..  Train Accuracy: 0.954\n",
            "Epoch: 3/5..  Training Running Loss: 0.160..  Train Loss: 0.144..  Train Accuracy: 0.952\n",
            "Epoch: 4/5..  Training Running Loss: 0.136..  Train Loss: 0.112..  Train Accuracy: 0.963\n",
            "Epoch: 5/5..  Training Running Loss: 0.119..  Train Loss: 0.121..  Train Accuracy: 0.965\n",
            "Model: 9\n",
            "Epoch: 1/5..  Training Running Loss: 0.489..  Train Loss: 0.240..  Train Accuracy: 0.927\n",
            "Epoch: 2/5..  Training Running Loss: 0.210..  Train Loss: 0.137..  Train Accuracy: 0.959\n",
            "Epoch: 3/5..  Training Running Loss: 0.139..  Train Loss: 0.104..  Train Accuracy: 0.965\n",
            "Epoch: 4/5..  Training Running Loss: 0.119..  Train Loss: 0.104..  Train Accuracy: 0.967\n",
            "Epoch: 5/5..  Training Running Loss: 0.092..  Train Loss: 0.077..  Train Accuracy: 0.974\n"
          ],
          "name": "stdout"
        },
        {
          "output_type": "display_data",
          "data": {
            "image/png": "[encoded data removed]",
            "text/plain": [
              "<Figure size 432x288 with 1 Axes>"
            ]
          },
          "metadata": {
            "tags": [],
            "image/png": {
              "width": 373,
              "height": 250
            }
          }
        }
      ]
    },
    {
      "cell_type": "markdown",
      "metadata": {
        "id": "vlzzzdQC_IfX",
        "colab_type": "text"
      },
      "source": [
        "## Get predictions from 10 teacher models\n",
        "\n",
        "Out of interest, I am also printing the accuracy on the test set, but we are not really using this, as we are treating this as an unlabelled dataset"
      ]
    },
    {
      "cell_type": "code",
      "metadata": {
        "id": "Jn89evwe1xYT",
        "colab_type": "code",
        "colab": {}
      },
      "source": [
        "def predictions (model, testloader):\n",
        "\n",
        "    preds = torch.zeros([0, 0], dtype=torch.float32)\n",
        "    accuracy = 0\n",
        "    with torch.no_grad():\n",
        "        for images, labels in testloader:\n",
        "            log_ps = model(images)\n",
        "\n",
        "            ps = torch.exp(log_ps)\n",
        "            top_p, top_class = ps.topk(1, dim=1)\n",
        "            equals = top_class == labels.view(*top_class.shape)\n",
        "            accuracy += torch.mean(equals.type(torch.FloatTensor))\n",
        "            if preds.shape[0]:\n",
        "                preds = torch.cat((preds,top_class),0)\n",
        "            else:\n",
        "                preds = top_class\n",
        "\n",
        "    print(accuracy / len(testloader))\n",
        "    return preds\n",
        "    "
      ],
      "execution_count": 0,
      "outputs": []
    },
    {
      "cell_type": "code",
      "metadata": {
        "id": "7fVrcBFc14S8",
        "colab_type": "code",
        "colab": {
          "base_uri": "https://localhost:8080/",
          "height": 201
        },
        "outputId": "9aba8427-17c2-44fb-f519-aa4085a32ea1"
      },
      "source": [
        "all_preds = torch.zeros([0, 0], dtype=torch.float32)\n",
        "for i in range(NUM_TEACHERS):\n",
        "    preds = predictions(models[i],testloader)\n",
        "    if all_preds.shape[0]:\n",
        "        all_preds = torch.cat((all_preds,preds),1)\n",
        "    else:\n",
        "        all_preds = preds"
      ],
      "execution_count": 17,
      "outputs": [
        {
          "output_type": "stream",
          "text": [
            "tensor(0.9326)\n",
            "tensor(0.9235)\n",
            "tensor(0.9333)\n",
            "tensor(0.9180)\n",
            "tensor(0.9283)\n",
            "tensor(0.9174)\n",
            "tensor(0.9249)\n",
            "tensor(0.9295)\n",
            "tensor(0.9234)\n",
            "tensor(0.9228)\n"
          ],
          "name": "stdout"
        }
      ]
    },
    {
      "cell_type": "code",
      "metadata": {
        "id": "VH9Xh5gCdXn8",
        "colab_type": "code",
        "colab": {}
      },
      "source": [
        "all_preds = torch.t(all_preds)"
      ],
      "execution_count": 0,
      "outputs": []
    },
    {
      "cell_type": "markdown",
      "metadata": {
        "id": "N9tQ0y5SQ0Dx",
        "colab_type": "text"
      },
      "source": [
        "The teacher models appear to have high agreement on the test set"
      ]
    },
    {
      "cell_type": "code",
      "metadata": {
        "id": "ZZr8mHmTbu1B",
        "colab_type": "code",
        "colab": {
          "base_uri": "https://localhost:8080/",
          "height": 201
        },
        "outputId": "be61c9e1-d9a2-42e0-894a-364f2f0878a0"
      },
      "source": [
        "all_preds[:,0:20]"
      ],
      "execution_count": 19,
      "outputs": [
        {
          "output_type": "execute_result",
          "data": {
            "text/plain": [
              "tensor([[7, 2, 1, 0, 4, 1, 4, 9, 6, 9, 0, 6, 9, 0, 1, 5, 9, 7, 3, 4],\n",
              "        [7, 2, 1, 0, 4, 1, 4, 9, 6, 9, 0, 6, 9, 0, 1, 5, 9, 7, 3, 4],\n",
              "        [7, 2, 1, 0, 4, 1, 4, 3, 5, 9, 0, 6, 9, 0, 1, 5, 9, 7, 3, 4],\n",
              "        [7, 2, 1, 0, 4, 1, 4, 9, 0, 9, 0, 6, 9, 0, 1, 3, 9, 7, 3, 4],\n",
              "        [7, 2, 1, 0, 4, 1, 4, 9, 5, 9, 0, 8, 9, 0, 1, 5, 9, 7, 8, 4],\n",
              "        [7, 2, 1, 0, 4, 1, 4, 9, 5, 9, 0, 6, 7, 0, 1, 5, 9, 7, 3, 4],\n",
              "        [7, 2, 1, 0, 4, 1, 4, 9, 6, 9, 0, 6, 9, 0, 1, 5, 9, 7, 3, 4],\n",
              "        [7, 2, 1, 0, 4, 1, 4, 9, 5, 9, 0, 6, 9, 0, 1, 5, 9, 7, 3, 4],\n",
              "        [7, 2, 1, 0, 4, 1, 4, 4, 4, 9, 0, 6, 9, 0, 1, 5, 9, 7, 3, 4],\n",
              "        [7, 2, 1, 0, 4, 1, 4, 9, 6, 9, 0, 6, 9, 0, 1, 5, 9, 7, 3, 4]])"
            ]
          },
          "metadata": {
            "tags": []
          },
          "execution_count": 19
        }
      ]
    },
    {
      "cell_type": "markdown",
      "metadata": {
        "id": "SdzBJ0-A_p1Z",
        "colab_type": "text"
      },
      "source": [
        "## Get the maximum noisy vote\n",
        "\n",
        "What should the Laplacian scaling be??\n",
        "\n",
        "b = sensitivity(query) / epsilon\n",
        "\n",
        "query is the number of models agreeing on a label? so maximum change from removing one model is 1?\n",
        "\n",
        "epsilon set to 1?"
      ]
    },
    {
      "cell_type": "code",
      "metadata": {
        "id": "IUPDnHLzTIqc",
        "colab_type": "code",
        "colab": {
          "base_uri": "https://localhost:8080/",
          "height": 90
        },
        "outputId": "ae42a93a-0ae8-49b6-fe15-dc6c83281f5f"
      },
      "source": [
        "all_counts = np.zeros((10,(len(test_targets))))\n",
        "all_counts_noise = np.zeros((10,(len(test_targets))))\n",
        "lap_scale = 1\n",
        "\n",
        "for i in range(len(test_targets)):\n",
        "  counts = np.bincount(all_preds[:,i],minlength=10)\n",
        "  all_counts[:,i] = counts\n",
        "  for j in range(len(counts)):\n",
        "    counts[j] += np.random.laplace(loc=0.0, scale=float(lap_scale))\n",
        "  all_counts_noise[:,i] = counts\n",
        "query_result = np.argmax(all_counts, axis=0)\n",
        "agreement = np.max(all_counts, axis=0)\n",
        "query_result_noise = np.argmax(all_counts_noise, axis=0)\n",
        "agreement_noise = np.max(all_counts_noise, axis=0)\n",
        "print(\"Average number of the models agreeing on label: \",np.mean(agreement))\n",
        "print(\"Minimum number of the models agreeing on label: \", np.min(agreement))\n",
        "print(\"Average number of the models agreeing on label (with noise): \",np.mean(agreement_noise))\n",
        "print(\"Minimum number of the models agreeing on label (with noise): \", np.min(agreement_noise))"
      ],
      "execution_count": 20,
      "outputs": [
        {
          "output_type": "stream",
          "text": [
            "Average number of the models agreeing on label:  9.3926\n",
            "Minimum number of the models agreeing on label:  3.0\n",
            "Average number of the models agreeing on label (with noise):  8.9612\n",
            "Minimum number of the models agreeing on label (with noise):  1.0\n"
          ],
          "name": "stdout"
        }
      ]
    },
    {
      "cell_type": "code",
      "metadata": {
        "id": "nhO9fhida4gG",
        "colab_type": "code",
        "colab": {
          "base_uri": "https://localhost:8080/",
          "height": 35
        },
        "outputId": "6ef205fe-b436-4977-8202-43cfa06cd415"
      },
      "source": [
        "np.mean(query_result == query_result_noise)"
      ],
      "execution_count": 21,
      "outputs": [
        {
          "output_type": "execute_result",
          "data": {
            "text/plain": [
              "0.9828"
            ]
          },
          "metadata": {
            "tags": []
          },
          "execution_count": 21
        }
      ]
    },
    {
      "cell_type": "markdown",
      "metadata": {
        "id": "KoBSc-x_BSk5",
        "colab_type": "text"
      },
      "source": [
        "## Train the student model on the new results\n",
        "\n",
        "Train the student model on the first 1000 examples of the test set, with labels from the teacher models with noise"
      ]
    },
    {
      "cell_type": "code",
      "metadata": {
        "id": "PZkv2vMk-p76",
        "colab_type": "code",
        "colab": {}
      },
      "source": [
        "def train_student_model (trainloader, model, epochs, test_labels):\n",
        "\n",
        "    optimizer = optim.Adam(model.parameters(), lr=0.003)\n",
        "    criterion = nn.NLLLoss()\n",
        "\n",
        "    train_losses = []\n",
        "    for e in range(epochs):\n",
        "        running_loss = 0\n",
        "        label_index = 0\n",
        "        for images, labels in trainloader:\n",
        "            new_labels = test_labels[label_index*STUDENT_BATCH_SIZE:label_index*STUDENT_BATCH_SIZE+STUDENT_BATCH_SIZE]\n",
        "            label_index = label_index + 1\n",
        "              \n",
        "            if (label_index<(STUDENT_SET_SIZE / STUDENT_BATCH_SIZE)):\n",
        "              log_ps = model(images)\n",
        "              #loss = criterion(log_ps, labels)\n",
        "              loss = criterion(log_ps, new_labels)\n",
        "\n",
        "              optimizer.zero_grad()\n",
        "              loss.backward()\n",
        "              optimizer.step()\n",
        "\n",
        "            running_loss += loss.item()\n",
        "        else:\n",
        "            print(f\"Training loss: {running_loss}\")\n",
        "            train_losses.append(running_loss/len(trainloader))\n",
        "    return train_losses"
      ],
      "execution_count": 0,
      "outputs": []
    },
    {
      "cell_type": "code",
      "metadata": {
        "id": "nZElI45KWKcP",
        "colab_type": "code",
        "colab": {
          "base_uri": "https://localhost:8080/",
          "height": 377
        },
        "outputId": "f2b14e17-dd17-4c45-88fc-b2d5beed5dbb"
      },
      "source": [
        "student_model = Classifier()\n",
        "train_losses = train_student_model(testloader,student_model,5,torch.LongTensor(query_result_noise))\n",
        "line_label = \"Student Model\"\n",
        "plt.plot(train_losses, label=line_label)\n",
        "plt.legend(frameon=False)    "
      ],
      "execution_count": 23,
      "outputs": [
        {
          "output_type": "stream",
          "text": [
            "Training loss: 104.20983934402466\n",
            "Training loss: 41.771895945072174\n",
            "Training loss: 37.86617128551006\n",
            "Training loss: 52.620762556791306\n",
            "Training loss: 21.656048625707626\n"
          ],
          "name": "stdout"
        },
        {
          "output_type": "execute_result",
          "data": {
            "text/plain": [
              "<matplotlib.legend.Legend at 0x7fd7697c0cc0>"
            ]
          },
          "metadata": {
            "tags": []
          },
          "execution_count": 23
        },
        {
          "output_type": "display_data",
          "data": {
            "image/png": "[encoded data removed]",
            "text/plain": [
              "<Figure size 432x288 with 1 Axes>"
            ]
          },
          "metadata": {
            "tags": [],
            "image/png": {
              "width": 373,
              "height": 250
            }
          }
        }
      ]
    },
    {
      "cell_type": "markdown",
      "metadata": {
        "id": "szgV9YC0BbB6",
        "colab_type": "text"
      },
      "source": [
        "## Perform PATE analysis\n",
        "\n",
        "Perform a PATE analysis on the 1000 queries of the teacher models used to create the student training set.\n",
        "\n",
        "Get the predictions for the second half of the test set, and check the accuracy of the student model on the remainder of the test set.\n",
        "\n",
        "I am doing the analysis using the teacher models predictions used to train the student model, with the full set of predictions as the teacher_preds and the noisy max result as the indices.\n",
        "\n",
        "The accuracy of the student model is quite low at 85%, which is presumably why in the paper they use a GAN instead of a standard network.\n",
        "\n",
        "The data dependent epsilon is close to the data independent epsilon due to the small number of teachers, even though the teacher models agree on most of the examples.\n"
      ]
    },
    {
      "cell_type": "code",
      "metadata": {
        "id": "OhTFVKW1Fktu",
        "colab_type": "code",
        "colab": {}
      },
      "source": [
        "def student_predictions (model, testloader, test_labels):\n",
        "\n",
        "    preds = torch.zeros([0, 0], dtype=torch.float32)\n",
        "    accuracy = 0\n",
        "    true_accuracy = 0\n",
        "    with torch.no_grad():\n",
        "        label_index = 0\n",
        "        for images, labels in testloader:\n",
        "            new_labels = test_labels[label_index*100:label_index*100+100]\n",
        "            label_index = label_index + 1\n",
        "              \n",
        "            if (label_index>(STUDENT_SET_SIZE / STUDENT_BATCH_SIZE)):\n",
        "              log_ps = model(images)\n",
        "\n",
        "              ps = torch.exp(log_ps)\n",
        "              top_p, top_class = ps.topk(1, dim=1)\n",
        "              equals = top_class == new_labels.view(*top_class.shape)\n",
        "              accuracy += torch.mean(equals.type(torch.FloatTensor))\n",
        "              true_equals = top_class == labels.view(*top_class.shape)\n",
        "              true_accuracy += torch.mean(true_equals.type(torch.FloatTensor))\n",
        "              if preds.shape[0]:\n",
        "                  preds = torch.cat((preds,top_class),0)\n",
        "              else:\n",
        "                  preds = top_class\n",
        "\n",
        "    print(true_accuracy / (len(testloader) - (STUDENT_SET_SIZE / STUDENT_BATCH_SIZE)))\n",
        "    return preds\n",
        "    "
      ],
      "execution_count": 0,
      "outputs": []
    },
    {
      "cell_type": "code",
      "metadata": {
        "id": "roiJs50_FHYT",
        "colab_type": "code",
        "colab": {
          "base_uri": "https://localhost:8080/",
          "height": 35
        },
        "outputId": "339dbdc5-ad59-4712-a2e4-8943ffce79ed"
      },
      "source": [
        "preds = student_predictions(student_model,testloader,torch.LongTensor(query_result_noise))"
      ],
      "execution_count": 25,
      "outputs": [
        {
          "output_type": "stream",
          "text": [
            "tensor(0.8567)\n"
          ],
          "name": "stdout"
        }
      ]
    },
    {
      "cell_type": "code",
      "metadata": {
        "id": "y7QjbrfZ18OH",
        "colab_type": "code",
        "colab": {
          "base_uri": "https://localhost:8080/",
          "height": 54
        },
        "outputId": "cdeb80c1-3f4a-4d1f-806c-eb452a4d74c2"
      },
      "source": [
        "data_dep_eps, data_ind_eps = pate.perform_analysis(teacher_preds=all_preds[:,0:1000], indices=query_result_noise[0:1000], noise_eps=0.1, delta=1e-5)\n",
        "print(\"Data Independent Epsilon:\", data_ind_eps)\n",
        "print(\"Data Dependent Epsilon:\", data_dep_eps)"
      ],
      "execution_count": 26,
      "outputs": [
        {
          "output_type": "stream",
          "text": [
            "Data Independent Epsilon: 51.51292546497024\n",
            "Data Dependent Epsilon: 51.512925464969555\n"
          ],
          "name": "stdout"
        }
      ]
    }
  ]
}